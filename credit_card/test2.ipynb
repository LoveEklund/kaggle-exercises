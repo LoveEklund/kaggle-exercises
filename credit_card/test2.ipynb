{
 "cells": [
  {
   "cell_type": "code",
   "execution_count": 34,
   "metadata": {},
   "outputs": [],
   "source": [
    "import pandas as pd\n",
    "import numpy as np\n",
    "import matplotlib.pyplot as plt\n",
    "file = pd.read_csv(\"creditcard.csv\")\n",
    "\n"
   ]
  },
  {
   "cell_type": "code",
   "execution_count": 53,
   "metadata": {},
   "outputs": [
    {
     "name": "stdout",
     "output_type": "stream",
     "text": [
      "0.7319979600091447\n"
     ]
    },
    {
     "data": {
      "text/plain": [
       "(array([77176., 38706., 24441., 13998., 13076., 11349.,  8412.,  8702.,\n",
       "         6738.,  5520.]),\n",
       " array([ 0.   ,  6.999, 13.998, 20.997, 27.996, 34.995, 41.994, 48.993,\n",
       "        55.992, 62.991, 69.99 ]),\n",
       " <a list of 10 Patch objects>)"
      ]
     },
     "execution_count": 53,
     "metadata": {},
     "output_type": "execute_result"
    },
    {
     "data": {
      "image/png": "[encoded data removed]",
      "text/plain": [
       "<Figure size 432x288 with 1 Axes>"
      ]
     },
     "metadata": {
      "needs_background": "light"
     },
     "output_type": "display_data"
    }
   ],
   "source": [
    "non_fraud = file[(file[\"Class\"] == 0) & (file[\"Amount\"] < 70)]\n",
    "amount = non_fraud[[\"Amount\"]]\n",
    "amount = amount.to_numpy()\n",
    "print(len(amount) / len(file[file[\"Class\"] == 0]))\n",
    "plt.hist(amount)\n",
    "\n",
    "\n"
   ]
  },
  {
   "cell_type": "code",
   "execution_count": 54,
   "metadata": {},
   "outputs": [
    {
     "name": "stdout",
     "output_type": "stream",
     "text": [
      "492\n"
     ]
    },
    {
     "data": {
      "text/plain": [
       "(array([410.,  40.,  17.,  14.,   2.,   2.,   4.,   1.,   1.,   1.]),\n",
       " array([   0.   ,  212.587,  425.174,  637.761,  850.348, 1062.935,\n",
       "        1275.522, 1488.109, 1700.696, 1913.283, 2125.87 ]),\n",
       " <a list of 10 Patch objects>)"
      ]
     },
     "execution_count": 54,
     "metadata": {},
     "output_type": "execute_result"
    },
    {
     "data": {
      "image/png": "[encoded data removed]",
      "text/plain": [
       "<Figure size 432x288 with 1 Axes>"
      ]
     },
     "metadata": {
      "needs_background": "light"
     },
     "output_type": "display_data"
    }
   ],
   "source": [
    "fraud = file[file[\"Class\"] == 1]\n",
    "amount = fraud[[\"Amount\"]]\n",
    "amount = amount.to_numpy()\n",
    "print(len(amount))\n",
    "plt.hist(amount)"
   ]
  },
  {
   "cell_type": "code",
   "execution_count": 22,
   "metadata": {},
   "outputs": [
    {
     "data": {
      "text/plain": [
       "(array([  33.,  187.,  779., 1832., 2707., 2523., 1400.,  444.,   84.,\n",
       "          11.]),\n",
       " array([-3.49575419, -2.76904723, -2.04234027, -1.3156333 , -0.58892634,\n",
       "         0.13778062,  0.86448758,  1.59119455,  2.31790151,  3.04460847,\n",
       "         3.77131544]),\n",
       " <a list of 10 Patch objects>)"
      ]
     },
     "execution_count": 22,
     "metadata": {},
     "output_type": "execute_result"
    },
    {
     "data": {
      "image/png": "[encoded data removed]",
      "text/plain": [
       "<Figure size 432x288 with 1 Axes>"
      ]
     },
     "metadata": {
      "needs_background": "light"
     },
     "output_type": "display_data"
    }
   ],
   "source": []
  },
  {
   "cell_type": "code",
   "execution_count": null,
   "metadata": {},
   "outputs": [],
   "source": []
  }
 ],
 "metadata": {
  "kernelspec": {
   "display_name": "Python 3",
   "language": "python",
   "name": "python3"
  },
  "language_info": {
   "codemirror_mode": {
    "name": "ipython",
    "version": 3
   },
   "file_extension": ".py",
   "mimetype": "text/x-python",
   "name": "python",
   "nbconvert_exporter": "python",
   "pygments_lexer": "ipython3",
   "version": "3.7.3"
  }
 },
 "nbformat": 4,
 "nbformat_minor": 2
}
