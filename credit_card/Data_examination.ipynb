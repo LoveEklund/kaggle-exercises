{
 "cells": [
  {
   "cell_type": "code",
   "execution_count": 44,
   "metadata": {},
   "outputs": [],
   "source": [
    "import pandas as pd\n",
    "import numpy as np\n",
    "import matplotlib.pyplot as plt\n",
    "import sklearn\n",
    "from sklearn.cluster import KMeans\n",
    "from sklearn.mixture import GaussianMixture\n",
    "file = pd.read_csv(\"creditcard.csv\")\n",
    "\n"
   ]
  },
  {
   "cell_type": "code",
   "execution_count": 25,
   "metadata": {},
   "outputs": [
    {
     "name": "stdout",
     "output_type": "stream",
     "text": [
      "1.0\n"
     ]
    },
    {
     "data": {
      "text/plain": [
       "(array([189399.,  37661.,  17440.,  10585.,   6401.,   4603.,   3188.,\n",
       "          2435.,   1794.,   1702.]),\n",
       " array([  0.,  50., 100., 150., 200., 250., 300., 350., 400., 450., 500.]),\n",
       " <a list of 10 Patch objects>)"
      ]
     },
     "execution_count": 25,
     "metadata": {},
     "output_type": "execute_result"
    },
    {
     "data": {
      "image/png": "[encoded data removed]",
      "text/plain": [
       "<Figure size 432x288 with 1 Axes>"
      ]
     },
     "metadata": {
      "needs_background": "light"
     },
     "output_type": "display_data"
    }
   ],
   "source": [
    "non_fraud = file[(file[\"Class\"] == 0)]\n",
    "amount = non_fraud[[\"Amount\"]]\n",
    "amount = amount.to_numpy()\n",
    "print(len(amount) / len(file[file[\"Class\"] == 0]))\n",
    "plt.hist(amount, range=[0, 500])\n",
    "\n",
    "\n"
   ]
  },
  {
   "cell_type": "code",
   "execution_count": 33,
   "metadata": {},
   "outputs": [
    {
     "name": "stdout",
     "output_type": "stream",
     "text": [
      "492\n"
     ]
    },
    {
     "data": {
      "text/plain": [
       "(array([305.,  57.,  31.,  14.,  11.,  11.,  15.,   6.,   2.,   5.]),\n",
       " array([  0.,  50., 100., 150., 200., 250., 300., 350., 400., 450., 500.]),\n",
       " <a list of 10 Patch objects>)"
      ]
     },
     "execution_count": 33,
     "metadata": {},
     "output_type": "execute_result"
    },
    {
     "data": {
      "image/png": "[encoded data removed]",
      "text/plain": [
       "<Figure size 432x288 with 1 Axes>"
      ]
     },
     "metadata": {
      "needs_background": "light"
     },
     "output_type": "display_data"
    }
   ],
   "source": [
    "fraud = file[file[\"Class\"] == 1]\n",
    "amount = fraud[[\"Amount\"]]\n",
    "amount = amount.to_numpy()\n",
    "print(len(amount))\n",
    "plt.hist(amount, range=[0, 500])"
   ]
  },
  {
   "cell_type": "code",
   "execution_count": 89,
   "metadata": {},
   "outputs": [],
   "source": [
    "# make data to numpy \n",
    "np_file = file.to_numpy()\n",
    "np_class = np_file[:,30]\n",
    "np_file = np_file[:,:30]\n"
   ]
  },
  {
   "cell_type": "code",
   "execution_count": null,
   "metadata": {},
   "outputs": [],
   "source": [
    "faake = file[file['Class']==1]\n",
    "legiit = file[file['Class']==0]\n",
    "\n",
    "np_faake = faake.to_numpy()\n",
    "np_legiit = legiit.to_numpy()\n",
    "\n",
    "np_faake = np_faake[:,:30]\n",
    "np_legiit = np_legiit[:,:30]"
   ]
  },
  {
   "cell_type": "code",
   "execution_count": 92,
   "metadata": {},
   "outputs": [],
   "source": [
    "kmeans_faake = KMeans(n_clusters=1, random_state=0).fit(np_faake)\n",
    "kmeans_legiit = KMeans(n_clusters=1, random_state=0).fit(np_legiit)"
   ]
  },
  {
   "cell_type": "code",
   "execution_count": 91,
   "metadata": {},
   "outputs": [],
   "source": [
    "faake_centers = kmeans_faake.cluster_centers_\n",
    "legiit_centers = kmeans_legiit.cluster_centers_"
   ]
  },
  {
   "cell_type": "code",
   "execution_count": 93,
   "metadata": {},
   "outputs": [
    {
     "name": "stdout",
     "output_type": "stream",
     "text": [
      "96082.98126867657\n"
     ]
    }
   ],
   "source": [
    "print(np.linalg.norm(faake_centers[0]-legiit_centers[0]))"
   ]
  },
  {
   "cell_type": "code",
   "execution_count": 97,
   "metadata": {},
   "outputs": [
    {
     "name": "stdout",
     "output_type": "stream",
     "text": [
      "46656.31767843542\n",
      "-----\n",
      "53121.91465868519\n"
     ]
    }
   ],
   "source": [
    "dist_sum_faake = 0 \n",
    "for i in range(0,len(np_faake)):\n",
    "    dist_sum_faake += np.linalg.norm(faake_centers[0] - np_faake[i])\n",
    "print(dist_sum_faake / len(np_faake))\n",
    "print(\"-----\")\n",
    "dist_sum_legiit = 0 \n",
    "for i in range(0,len(np_legiit)):\n",
    "    dist_sum_legiit += np.linalg.norm(legiit_centers[0] - np_legiit[i])\n",
    "print(dist_sum_legiit / len(np_legiit))"
   ]
  },
  {
   "cell_type": "code",
   "execution_count": 101,
   "metadata": {},
   "outputs": [],
   "source": [
    "#Mclust says 9 clusters on smaller data amount\n",
    "kmeans = KMeans(n_clusters=9, random_state=0).fit(np_file)"
   ]
  },
  {
   "cell_type": "code",
   "execution_count": 105,
   "metadata": {},
   "outputs": [],
   "source": [
    "#Adding cluster labels to the dataframe\n",
    "cluster_labels = kmeans.labels_\n",
    "file['Cluster Labels'] = cluster_labels"
   ]
  },
  {
   "cell_type": "code",
   "execution_count": 114,
   "metadata": {},
   "outputs": [
    {
     "name": "stdout",
     "output_type": "stream",
     "text": [
      "Cluster Labels 0 : 0.0024480165167379444\n",
      "Cluster Labels 1 : 0.0016307893020221786\n",
      "Cluster Labels 2 : 0.002551020408163265\n",
      "Cluster Labels 3 : 0.0010454175862469508\n",
      "Cluster Labels 4 : 0.0009671472179405809\n",
      "Cluster Labels 5 : 0.0012744105851043893\n",
      "Cluster Labels 6 : 0.001556838768115942\n",
      "Cluster Labels 7 : 0.00449582530507386\n",
      "Cluster Labels 8 : 0.0012485072196287048\n"
     ]
    }
   ],
   "source": [
    "#Checking distribution of frauds in each Clusters\n",
    "for i in range(0,9):\n",
    "    cluster = file[file[\"Cluster Labels\"] == i]\n",
    "    fraud = cluster[cluster['Class'] == 1]\n",
    "    display_this_shit = len(fraud)/len(cluster)\n",
    "    print('Cluster Labels ' + str(i) + ' : ' + str(display_this_shit))"
   ]
  },
  {
   "cell_type": "code",
   "execution_count": 113,
   "metadata": {},
   "outputs": [
    {
     "data": {
      "text/plain": [
       "284807"
      ]
     },
     "execution_count": 113,
     "metadata": {},
     "output_type": "execute_result"
    }
   ],
   "source": []
  }
 ],
 "metadata": {
  "kernelspec": {
   "display_name": "Python 3",
   "language": "python",
   "name": "python3"
  },
  "language_info": {
   "codemirror_mode": {
    "name": "ipython",
    "version": 3
   },
   "file_extension": ".py",
   "mimetype": "text/x-python",
   "name": "python",
   "nbconvert_exporter": "python",
   "pygments_lexer": "ipython3",
   "version": "3.7.3"
  }
 },
 "nbformat": 4,
 "nbformat_minor": 2
}
